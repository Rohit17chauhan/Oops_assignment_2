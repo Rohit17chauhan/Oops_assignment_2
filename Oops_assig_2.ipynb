{
 "cells": [
  {
   "cell_type": "code",
   "execution_count": 1,
   "id": "b64e2fbd-d349-4a1b-99e4-7538b17573b9",
   "metadata": {},
   "outputs": [
    {
     "data": {
      "text/plain": [
       "' Q1. Explain Class and Object with respect to Object-Oriented Programming. Give a suitable example. '"
      ]
     },
     "execution_count": 1,
     "metadata": {},
     "output_type": "execute_result"
    }
   ],
   "source": [
    "\"\"\" Q1. Explain Class and Object with respect to Object-Oriented Programming. Give a suitable example. \"\"\""
   ]
  },
  {
   "cell_type": "code",
   "execution_count": 2,
   "id": "b8656849-c957-4498-9b6a-6797c1aab73f",
   "metadata": {},
   "outputs": [
    {
     "data": {
      "text/plain": [
       "' Ans-1 '"
      ]
     },
     "execution_count": 2,
     "metadata": {},
     "output_type": "execute_result"
    }
   ],
   "source": [
    "\"\"\" Ans-1 \"\"\""
   ]
  },
  {
   "cell_type": "code",
   "execution_count": 5,
   "id": "1d7cb8be-b484-4210-8649-2856cfc1eaa1",
   "metadata": {},
   "outputs": [],
   "source": [
    "class_object =\" class is a group of object and object is real world entity. Example - \""
   ]
  },
  {
   "cell_type": "code",
   "execution_count": 6,
   "id": "f294a74f-eb7c-4204-a8d0-f3fc91fd1e4f",
   "metadata": {},
   "outputs": [
    {
     "data": {
      "text/plain": [
       "' class is a group of object and object is real world entity. Example - '"
      ]
     },
     "execution_count": 6,
     "metadata": {},
     "output_type": "execute_result"
    }
   ],
   "source": [
    "class_object"
   ]
  },
  {
   "cell_type": "code",
   "execution_count": 73,
   "id": "ab058393-c1d9-43eb-8278-5556b672cd62",
   "metadata": {},
   "outputs": [],
   "source": [
    "class test:\n",
    "    def show_to(self):\n",
    "        print(\" welcome to my india\")"
   ]
  },
  {
   "cell_type": "code",
   "execution_count": 80,
   "id": "22eba5c8-18d7-43db-8126-f5615811dc65",
   "metadata": {},
   "outputs": [],
   "source": [
    "jack=test()"
   ]
  },
  {
   "cell_type": "code",
   "execution_count": 81,
   "id": "7c762026-600d-4549-ad17-0c296191f7f2",
   "metadata": {},
   "outputs": [
    {
     "name": "stdout",
     "output_type": "stream",
     "text": [
      " welcome to my india\n"
     ]
    }
   ],
   "source": [
    "jack.show_to()"
   ]
  },
  {
   "cell_type": "code",
   "execution_count": 82,
   "id": "ced718a9-b13e-4e18-a2d0-3719161d0a1a",
   "metadata": {},
   "outputs": [
    {
     "data": {
      "text/plain": [
       "' Q2. Name the four pillars of OOPs.  '"
      ]
     },
     "execution_count": 82,
     "metadata": {},
     "output_type": "execute_result"
    }
   ],
   "source": [
    "\"\"\" Q2. Name the four pillars of OOPs.  \"\"\""
   ]
  },
  {
   "cell_type": "code",
   "execution_count": 83,
   "id": "c6c22497-ead0-449f-ba64-453226cd3499",
   "metadata": {},
   "outputs": [
    {
     "data": {
      "text/plain": [
       "' Ans-2 '"
      ]
     },
     "execution_count": 83,
     "metadata": {},
     "output_type": "execute_result"
    }
   ],
   "source": [
    "\"\"\" Ans-2 \"\"\""
   ]
  },
  {
   "cell_type": "code",
   "execution_count": 84,
   "id": "19d079b5-98b5-4c48-b9b3-943f1369f365",
   "metadata": {},
   "outputs": [],
   "source": [
    "Oops_pillars=\" 1-polymorphism, 2-encapsulation,3-inheritance,4-Abstrct\""
   ]
  },
  {
   "cell_type": "code",
   "execution_count": 85,
   "id": "9a2c0b55-596a-459d-96b5-d7707abdcb70",
   "metadata": {},
   "outputs": [
    {
     "data": {
      "text/plain": [
       "' 1-polymorphism, 2-encapsulation,3-inheritance,4-Abstrct'"
      ]
     },
     "execution_count": 85,
     "metadata": {},
     "output_type": "execute_result"
    }
   ],
   "source": [
    "Oops_pillars"
   ]
  },
  {
   "cell_type": "code",
   "execution_count": 86,
   "id": "875f37a7-c559-4ed7-bc9b-d2c423baebde",
   "metadata": {},
   "outputs": [
    {
     "data": {
      "text/plain": [
       "' Q4. Why self is used in OOPs? '"
      ]
     },
     "execution_count": 86,
     "metadata": {},
     "output_type": "execute_result"
    }
   ],
   "source": [
    "\"\"\" Q4. Why self is used in OOPs? \"\"\""
   ]
  },
  {
   "cell_type": "code",
   "execution_count": 88,
   "id": "de4b22c2-cf5b-4eb5-b112-583be3dc7f39",
   "metadata": {},
   "outputs": [],
   "source": [
    "self_use=\"we use self because it show that it refer to any particulal class or we can say to represent the instance of the class \""
   ]
  },
  {
   "cell_type": "code",
   "execution_count": 89,
   "id": "602dbbdb-e830-4a20-b51c-bce8f6026459",
   "metadata": {},
   "outputs": [
    {
     "data": {
      "text/plain": [
       "'we use self because it show that it refer to any particulal class or we can say to represent the instance of the class '"
      ]
     },
     "execution_count": 89,
     "metadata": {},
     "output_type": "execute_result"
    }
   ],
   "source": [
    "self_use"
   ]
  },
  {
   "cell_type": "code",
   "execution_count": 90,
   "id": "3a308beb-4b44-4923-8dba-049b91d6bf52",
   "metadata": {},
   "outputs": [
    {
     "data": {
      "text/plain": [
       "' Q5. What is inheritance? Give an example for each type of inheritance. '"
      ]
     },
     "execution_count": 90,
     "metadata": {},
     "output_type": "execute_result"
    }
   ],
   "source": [
    "\"\"\" Q5. What is inheritance? Give an example for each type of inheritance. \"\"\""
   ]
  },
  {
   "cell_type": "code",
   "execution_count": 91,
   "id": "fc686d0c-8160-4793-9aab-336a057fe8ac",
   "metadata": {},
   "outputs": [],
   "source": [
    "inheritance =\" inheritance one of  the most usefull in programming language , in python we inheritance to inhert the property of a class form another class \"\n"
   ]
  },
  {
   "cell_type": "code",
   "execution_count": 92,
   "id": "4211600f-6217-477c-a4a0-990f6de42c31",
   "metadata": {},
   "outputs": [
    {
     "data": {
      "text/plain": [
       "' inheritance one of  the most usefull in programming language , in python we inheritance to inhert the property of a class form another class '"
      ]
     },
     "execution_count": 92,
     "metadata": {},
     "output_type": "execute_result"
    }
   ],
   "source": [
    "inheritance"
   ]
  },
  {
   "cell_type": "code",
   "execution_count": 93,
   "id": "9a6c7c67-aa2c-4c23-befa-94a77dd78d79",
   "metadata": {},
   "outputs": [],
   "source": [
    "class collage1:\n",
    "    def student(self):\n",
    "        print(\"this is a collage1\")\n",
    "        "
   ]
  },
  {
   "cell_type": "code",
   "execution_count": 94,
   "id": "d7766eab-87ce-46ef-a76d-8ccaf351dd17",
   "metadata": {},
   "outputs": [],
   "source": [
    "class college2(collage1):\n",
    "    def collage_name(self):\n",
    "        print(\" convent school \")"
   ]
  },
  {
   "cell_type": "code",
   "execution_count": 98,
   "id": "10a0195e-df33-4b88-b15b-20b3f9e9c551",
   "metadata": {},
   "outputs": [],
   "source": [
    "class_obj=college2()"
   ]
  },
  {
   "cell_type": "code",
   "execution_count": 100,
   "id": "25e60451-ad7f-4075-b8cd-8a4d8884db44",
   "metadata": {},
   "outputs": [
    {
     "name": "stdout",
     "output_type": "stream",
     "text": [
      " convent school \n"
     ]
    }
   ],
   "source": [
    "class_obj.collage_name()"
   ]
  },
  {
   "cell_type": "code",
   "execution_count": 102,
   "id": "83a279d8-e4df-4cb1-a925-51d1035ea9f1",
   "metadata": {},
   "outputs": [
    {
     "name": "stdout",
     "output_type": "stream",
     "text": [
      "this is a collage1\n"
     ]
    }
   ],
   "source": [
    "class_obj.student()"
   ]
  },
  {
   "cell_type": "code",
   "execution_count": null,
   "id": "2815d593-ebdf-4126-93a9-bfeb8d05c5d4",
   "metadata": {},
   "outputs": [],
   "source": []
  }
 ],
 "metadata": {
  "kernelspec": {
   "display_name": "Python 3 (ipykernel)",
   "language": "python",
   "name": "python3"
  },
  "language_info": {
   "codemirror_mode": {
    "name": "ipython",
    "version": 3
   },
   "file_extension": ".py",
   "mimetype": "text/x-python",
   "name": "python",
   "nbconvert_exporter": "python",
   "pygments_lexer": "ipython3",
   "version": "3.10.8"
  }
 },
 "nbformat": 4,
 "nbformat_minor": 5
}
